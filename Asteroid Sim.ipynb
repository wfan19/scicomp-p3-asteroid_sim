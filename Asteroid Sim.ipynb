{
 "cells": [
  {
   "cell_type": "code",
   "execution_count": 1,
   "id": "d465af7a-df57-46b3-b922-6ce91d8136ca",
   "metadata": {},
   "outputs": [],
   "source": [
    "import numpy as np\n",
    "import scipy.integrate as integrate\n",
    "\n",
    "import requests\n",
    "import json\n",
    "import base64\n",
    "\n",
    "from astroquery.jplhorizons import Horizons\n",
    "\n",
    "import plotly.graph_objects as go"
   ]
  },
  {
   "cell_type": "code",
   "execution_count": 13,
   "id": "e450c859-59b0-44e6-a8d3-9e7929605a4d",
   "metadata": {},
   "outputs": [
    {
     "name": "stdout",
     "output_type": "stream",
     "text": [
      "JPLHorizons instance \"399\"; location=500@10, epochs={'start': '2023-04-10', 'stop': '2023-05-10', 'step': '5'}, id_type=None\n",
      " targetname       datetime_str       datetime_jd ... alpha_true  PABLon  PABLat\n",
      "    ---               ---                 d      ...    deg       deg     deg  \n",
      "----------- ------------------------ ----------- ... ---------- -------- ------\n",
      "Earth (399) 2023-Apr-10 00:00:00.000   2460044.5 ...     0.0057 199.5424 0.0014\n",
      "Earth (399) 2023-Apr-16 00:00:00.000   2460050.5 ...     0.0057 205.4265 0.0017\n",
      "Earth (399) 2023-Apr-22 00:00:00.000   2460056.5 ...     0.0057 211.2931 0.0018\n",
      "Earth (399) 2023-Apr-28 00:00:00.000   2460062.5 ...     0.0057 217.1398 0.0019\n",
      "Earth (399) 2023-May-04 00:00:00.000   2460068.5 ...     0.0056 222.9658 0.0022\n",
      "Earth (399) 2023-May-10 00:00:00.000   2460074.5 ...     0.0056 228.7738 0.0026\n"
     ]
    }
   ],
   "source": [
    "obj = Horizons(id='399', location='500@10', epochs={\"start\": \"2023-04-10\", \"stop\": \"2023-05-10\", \"step\": \"5\"})\n",
    "print(obj)\n",
    "print(obj.ephemerides())"
   ]
  },
  {
   "cell_type": "code",
   "execution_count": 10,
   "id": "2f1bb5a7-107c-49c4-9526-66bd33f48ddb",
   "metadata": {},
   "outputs": [],
   "source": [
    "## Useful constants\n",
    "G = 6.67428e-11\n",
    "m_earth = 5.97219e24\n",
    "m_sun = 1.9891e30\n",
    "au = 149597870700 # 1 Astronomical unit in meters\n",
    "seconds_in_year = 1*365*24*60*60\n",
    "\n",
    "earth_linear_vel = 2 * np.pi * au / seconds_in_year"
   ]
  },
  {
   "cell_type": "markdown",
   "id": "f08534e7-f9be-44d9-bd3d-d72bcf5f4dd6",
   "metadata": {
    "tags": []
   },
   "source": [
    "# TODOs:\n",
    "#### Core simulation:\n",
    "- [ ] 3D\n",
    "- [ ] Add 2nd planet\n",
    "- [ ] Add all planets\n",
    "- [ ] Add asteroid\n",
    "#### Validation:\n",
    "- [ ] Pull data from horizons\n",
    "- [ ] Create an asteroid based on a past horizons timestamp/frame\n",
    "- [ ] Create metrics to compare a single asteroid prediction"
   ]
  },
  {
   "cell_type": "code",
   "execution_count": 42,
   "id": "f4f72912-c967-4563-b4c8-8c7c28ca3ee2",
   "metadata": {},
   "outputs": [],
   "source": [
    "## Two-body problem\n",
    "\n",
    "earth_pos_0 = np.array([au, 0])\n",
    "earth_vel_0 = np.array([0, earth_linear_vel])\n",
    "\n",
    "y_0 = np.concatenate([earth_pos_0, earth_vel_0])\n",
    "\n",
    "def sun_earth_diffeq(t, y):\n",
    "    dy = np.zeros(y.shape)\n",
    "\n",
    "    earth_to_sun = -y[0:2]\n",
    "    r_earth_to_sun = np.linalg.norm(earth_to_sun)\n",
    "    earth_to_sun = earth_to_sun / r_earth_to_sun\n",
    "    \n",
    "    force_sun_to_earth = G * m_sun * m_earth / (r_earth_to_sun**2)\n",
    "    \n",
    "    dy[0:2] = y[2:4]\n",
    "    dy[2:4] = earth_to_sun * force_sun_to_earth / m_earth\n",
    "    \n",
    "    return dy\n",
    "\n",
    "tspan = [0, seconds_in_year]\n",
    "n_points = 100\n",
    "t_eval = np.linspace(tspan[0], tspan[1], n_points)\n",
    "\n",
    "soln_earth_sun = integrate.solve_ivp(sun_earth_diffeq, tspan, y_0, t_eval=t_eval)"
   ]
  },
  {
   "cell_type": "code",
   "execution_count": 43,
   "id": "a503726c-4281-49e6-bb30-162b421a5bf6",
   "metadata": {},
   "outputs": [
    {
     "data": {
      "application/vnd.plotly.v1+json": {
       "config": {
        "plotlyServerURL": "https://plot.ly"
       },
       "data": [
        {
         "type": "scatter",
         "x": [
          149597870700,
          149297001942.85995,
          148395487000.21805,
          146895837942.3846,
          144804637433.4658,
          142131030485.646,
          138886177826.81955,
          135083255900.59064,
          130737456866.2735,
          125865988598.89224,
          120488074689.18094,
          114624954443.58362,
          108299882884.25424,
          101537146401.88277,
          94362164650.94218,
          86806155763.06544,
          78901367615.54094,
          70680751819.45291,
          62177963719.6815,
          53427362394.902855,
          44464010657.58895,
          35323675054.00775,
          26042825864.223038,
          16658637102.094604,
          7208986515.278107,
          -2267544414.774887,
          -11731670472.81688,
          -21144873026.928745,
          -30473861833.116898,
          -39680000808.78011,
          -48724778695.96266,
          -57570723416.38068,
          -66181402071.42233,
          -74521420942.14755,
          -82556425489.28818,
          -90253100353.24805,
          -97579169354.10272,
          -104503395491.59987,
          -110995580945.15881,
          -117026567073.871,
          -122568234416.4997,
          -127594880695.35312,
          -132092175138.91882,
          -136042475029.52834,
          -139428624330.09445,
          -142235701125.19324,
          -144451017621.0641,
          -146064120145.60965,
          -147066789148.39584,
          -147453039200.65195,
          -147219118995.27045,
          -146363511346.8071,
          -144886933191.48105,
          -142792335587.17462,
          -140084903713.4335,
          -136774218843.6761,
          -132876979837.17305,
          -128410642712.01395,
          -123394516760.10745,
          -117849810589.69687,
          -111799632125.35963,
          -105268988608.0079,
          -98284786594.88803,
          -90875831959.58078,
          -83072829892.00157,
          -74908384898.40002,
          -66417000801.36012,
          -57635080739.80061,
          -48600706522.21213,
          -39349542337.49208,
          -29922840468.334778,
          -20364244617.09386,
          -10717302079.92199,
          -1025463746.7701035,
          8667915898.612267,
          18319578778.676666,
          27886363222.0764,
          37325203963.66608,
          46593132144.50148,
          55647275311.84015,
          64444857419.14087,
          72943198826.06364,
          81099716298.47015,
          88874163105.88474,
          96245629445.43576,
          103183847426.89345,
          109656736221.59288,
          115634438170.41072,
          121089318783.76495,
          125995966741.61467,
          130331193893.46051,
          134074035258.34444,
          137205749024.84958,
          139709816551.1006,
          141571942364.76337,
          142780054163.0451,
          143324302812.69437,
          143202192658.10544,
          142424246557.41925,
          140993623363.5508
         ],
         "y": [
          0,
          9488090380.527939,
          18938119167.82382,
          28312849178.3918,
          37573766012.12119,
          46682908570.92485,
          55603384300.197,
          64299369188.813126,
          72736107769.13014,
          80879913116.98627,
          88698166851.701,
          96159319136.0753,
          103232888676.3914,
          109889798625.19995,
          116103648703.76465,
          121849566925.32481,
          127104598346.29048,
          131847766704.62468,
          136060074419.84335,
          139724502593.01532,
          142826011006.76236,
          145351538125.25912,
          147290001094.23328,
          148632295740.96533,
          149371296574.28876,
          149501856784.58994,
          149020808243.8081,
          147928299224.51422,
          146233787501.39355,
          143946241144.28436,
          141075837495.62057,
          137634612563.16327,
          133636461020.00066,
          129097136204.54816,
          124034250120.54836,
          118467273437.07089,
          112417535488.51266,
          105908224274.59766,
          98964386460.37717,
          91612927376.2294,
          83882611017.8599,
          75803886691.0802,
          67409040419.785095,
          58734299736.85798,
          49816783155.30318,
          40694070839.45952,
          31404204605.0001,
          21985687918.93258,
          12477485899.59909,
          2919025316.6760254,
          -6649805408.825623,
          -16188656204.560486,
          -25656715346.84874,
          -35012709460.67619,
          -44214903519.69412,
          -53225052076.744026,
          -62008790326.32799,
          -70526924702.4104,
          -78741675174.06992,
          -86616794997.30159,
          -94117570715.01746,
          -101210822157.0458,
          -107864902440.13187,
          -114049697967.93742,
          -119736628431.04074,
          -124898646806.93689,
          -129510239360.03757,
          -133547425641.67096,
          -136988057271.5029,
          -139820081222.4556,
          -142034068790.84457,
          -143620761922.39355,
          -144573344387.0837,
          -144887441779.1536,
          -144561121517.09933,
          -143594892843.67444,
          -141991706825.88995,
          -139756956355.01422,
          -136898476146.57329,
          -133426542740.35046,
          -129353874500.38658,
          -124695631614.98001,
          -119469416096.6865,
          -113695993651.09525,
          -107406112293.57256,
          -100631476517.60362,
          -93404096244.32477,
          -85757309827.2752,
          -77725784052.39735,
          -69345514138.03705,
          -60653823734.94303,
          -51689364926.26715,
          -42492118227.564835,
          -33103392586.79431,
          -23565825384.31697,
          -13923382432.897705,
          -4221357977.704239,
          5495745740.855901,
          15187439607.277712,
          24809520689.766766
         ]
        }
       ],
       "layout": {
        "autosize": true,
        "template": {
         "data": {
          "bar": [
           {
            "error_x": {
             "color": "#2a3f5f"
            },
            "error_y": {
             "color": "#2a3f5f"
            },
            "marker": {
             "line": {
              "color": "#E5ECF6",
              "width": 0.5
             },
             "pattern": {
              "fillmode": "overlay",
              "size": 10,
              "solidity": 0.2
             }
            },
            "type": "bar"
           }
          ],
          "barpolar": [
           {
            "marker": {
             "line": {
              "color": "#E5ECF6",
              "width": 0.5
             },
             "pattern": {
              "fillmode": "overlay",
              "size": 10,
              "solidity": 0.2
             }
            },
            "type": "barpolar"
           }
          ],
          "carpet": [
           {
            "aaxis": {
             "endlinecolor": "#2a3f5f",
             "gridcolor": "white",
             "linecolor": "white",
             "minorgridcolor": "white",
             "startlinecolor": "#2a3f5f"
            },
            "baxis": {
             "endlinecolor": "#2a3f5f",
             "gridcolor": "white",
             "linecolor": "white",
             "minorgridcolor": "white",
             "startlinecolor": "#2a3f5f"
            },
            "type": "carpet"
           }
          ],
          "choropleth": [
           {
            "colorbar": {
             "outlinewidth": 0,
             "ticks": ""
            },
            "type": "choropleth"
           }
          ],
          "contour": [
           {
            "colorbar": {
             "outlinewidth": 0,
             "ticks": ""
            },
            "colorscale": [
             [
              0,
              "#0d0887"
             ],
             [
              0.1111111111111111,
              "#46039f"
             ],
             [
              0.2222222222222222,
              "#7201a8"
             ],
             [
              0.3333333333333333,
              "#9c179e"
             ],
             [
              0.4444444444444444,
              "#bd3786"
             ],
             [
              0.5555555555555556,
              "#d8576b"
             ],
             [
              0.6666666666666666,
              "#ed7953"
             ],
             [
              0.7777777777777778,
              "#fb9f3a"
             ],
             [
              0.8888888888888888,
              "#fdca26"
             ],
             [
              1,
              "#f0f921"
             ]
            ],
            "type": "contour"
           }
          ],
          "contourcarpet": [
           {
            "colorbar": {
             "outlinewidth": 0,
             "ticks": ""
            },
            "type": "contourcarpet"
           }
          ],
          "heatmap": [
           {
            "colorbar": {
             "outlinewidth": 0,
             "ticks": ""
            },
            "colorscale": [
             [
              0,
              "#0d0887"
             ],
             [
              0.1111111111111111,
              "#46039f"
             ],
             [
              0.2222222222222222,
              "#7201a8"
             ],
             [
              0.3333333333333333,
              "#9c179e"
             ],
             [
              0.4444444444444444,
              "#bd3786"
             ],
             [
              0.5555555555555556,
              "#d8576b"
             ],
             [
              0.6666666666666666,
              "#ed7953"
             ],
             [
              0.7777777777777778,
              "#fb9f3a"
             ],
             [
              0.8888888888888888,
              "#fdca26"
             ],
             [
              1,
              "#f0f921"
             ]
            ],
            "type": "heatmap"
           }
          ],
          "heatmapgl": [
           {
            "colorbar": {
             "outlinewidth": 0,
             "ticks": ""
            },
            "colorscale": [
             [
              0,
              "#0d0887"
             ],
             [
              0.1111111111111111,
              "#46039f"
             ],
             [
              0.2222222222222222,
              "#7201a8"
             ],
             [
              0.3333333333333333,
              "#9c179e"
             ],
             [
              0.4444444444444444,
              "#bd3786"
             ],
             [
              0.5555555555555556,
              "#d8576b"
             ],
             [
              0.6666666666666666,
              "#ed7953"
             ],
             [
              0.7777777777777778,
              "#fb9f3a"
             ],
             [
              0.8888888888888888,
              "#fdca26"
             ],
             [
              1,
              "#f0f921"
             ]
            ],
            "type": "heatmapgl"
           }
          ],
          "histogram": [
           {
            "marker": {
             "pattern": {
              "fillmode": "overlay",
              "size": 10,
              "solidity": 0.2
             }
            },
            "type": "histogram"
           }
          ],
          "histogram2d": [
           {
            "colorbar": {
             "outlinewidth": 0,
             "ticks": ""
            },
            "colorscale": [
             [
              0,
              "#0d0887"
             ],
             [
              0.1111111111111111,
              "#46039f"
             ],
             [
              0.2222222222222222,
              "#7201a8"
             ],
             [
              0.3333333333333333,
              "#9c179e"
             ],
             [
              0.4444444444444444,
              "#bd3786"
             ],
             [
              0.5555555555555556,
              "#d8576b"
             ],
             [
              0.6666666666666666,
              "#ed7953"
             ],
             [
              0.7777777777777778,
              "#fb9f3a"
             ],
             [
              0.8888888888888888,
              "#fdca26"
             ],
             [
              1,
              "#f0f921"
             ]
            ],
            "type": "histogram2d"
           }
          ],
          "histogram2dcontour": [
           {
            "colorbar": {
             "outlinewidth": 0,
             "ticks": ""
            },
            "colorscale": [
             [
              0,
              "#0d0887"
             ],
             [
              0.1111111111111111,
              "#46039f"
             ],
             [
              0.2222222222222222,
              "#7201a8"
             ],
             [
              0.3333333333333333,
              "#9c179e"
             ],
             [
              0.4444444444444444,
              "#bd3786"
             ],
             [
              0.5555555555555556,
              "#d8576b"
             ],
             [
              0.6666666666666666,
              "#ed7953"
             ],
             [
              0.7777777777777778,
              "#fb9f3a"
             ],
             [
              0.8888888888888888,
              "#fdca26"
             ],
             [
              1,
              "#f0f921"
             ]
            ],
            "type": "histogram2dcontour"
           }
          ],
          "mesh3d": [
           {
            "colorbar": {
             "outlinewidth": 0,
             "ticks": ""
            },
            "type": "mesh3d"
           }
          ],
          "parcoords": [
           {
            "line": {
             "colorbar": {
              "outlinewidth": 0,
              "ticks": ""
             }
            },
            "type": "parcoords"
           }
          ],
          "pie": [
           {
            "automargin": true,
            "type": "pie"
           }
          ],
          "scatter": [
           {
            "fillpattern": {
             "fillmode": "overlay",
             "size": 10,
             "solidity": 0.2
            },
            "type": "scatter"
           }
          ],
          "scatter3d": [
           {
            "line": {
             "colorbar": {
              "outlinewidth": 0,
              "ticks": ""
             }
            },
            "marker": {
             "colorbar": {
              "outlinewidth": 0,
              "ticks": ""
             }
            },
            "type": "scatter3d"
           }
          ],
          "scattercarpet": [
           {
            "marker": {
             "colorbar": {
              "outlinewidth": 0,
              "ticks": ""
             }
            },
            "type": "scattercarpet"
           }
          ],
          "scattergeo": [
           {
            "marker": {
             "colorbar": {
              "outlinewidth": 0,
              "ticks": ""
             }
            },
            "type": "scattergeo"
           }
          ],
          "scattergl": [
           {
            "marker": {
             "colorbar": {
              "outlinewidth": 0,
              "ticks": ""
             }
            },
            "type": "scattergl"
           }
          ],
          "scattermapbox": [
           {
            "marker": {
             "colorbar": {
              "outlinewidth": 0,
              "ticks": ""
             }
            },
            "type": "scattermapbox"
           }
          ],
          "scatterpolar": [
           {
            "marker": {
             "colorbar": {
              "outlinewidth": 0,
              "ticks": ""
             }
            },
            "type": "scatterpolar"
           }
          ],
          "scatterpolargl": [
           {
            "marker": {
             "colorbar": {
              "outlinewidth": 0,
              "ticks": ""
             }
            },
            "type": "scatterpolargl"
           }
          ],
          "scatterternary": [
           {
            "marker": {
             "colorbar": {
              "outlinewidth": 0,
              "ticks": ""
             }
            },
            "type": "scatterternary"
           }
          ],
          "surface": [
           {
            "colorbar": {
             "outlinewidth": 0,
             "ticks": ""
            },
            "colorscale": [
             [
              0,
              "#0d0887"
             ],
             [
              0.1111111111111111,
              "#46039f"
             ],
             [
              0.2222222222222222,
              "#7201a8"
             ],
             [
              0.3333333333333333,
              "#9c179e"
             ],
             [
              0.4444444444444444,
              "#bd3786"
             ],
             [
              0.5555555555555556,
              "#d8576b"
             ],
             [
              0.6666666666666666,
              "#ed7953"
             ],
             [
              0.7777777777777778,
              "#fb9f3a"
             ],
             [
              0.8888888888888888,
              "#fdca26"
             ],
             [
              1,
              "#f0f921"
             ]
            ],
            "type": "surface"
           }
          ],
          "table": [
           {
            "cells": {
             "fill": {
              "color": "#EBF0F8"
             },
             "line": {
              "color": "white"
             }
            },
            "header": {
             "fill": {
              "color": "#C8D4E3"
             },
             "line": {
              "color": "white"
             }
            },
            "type": "table"
           }
          ]
         },
         "layout": {
          "annotationdefaults": {
           "arrowcolor": "#2a3f5f",
           "arrowhead": 0,
           "arrowwidth": 1
          },
          "autotypenumbers": "strict",
          "coloraxis": {
           "colorbar": {
            "outlinewidth": 0,
            "ticks": ""
           }
          },
          "colorscale": {
           "diverging": [
            [
             0,
             "#8e0152"
            ],
            [
             0.1,
             "#c51b7d"
            ],
            [
             0.2,
             "#de77ae"
            ],
            [
             0.3,
             "#f1b6da"
            ],
            [
             0.4,
             "#fde0ef"
            ],
            [
             0.5,
             "#f7f7f7"
            ],
            [
             0.6,
             "#e6f5d0"
            ],
            [
             0.7,
             "#b8e186"
            ],
            [
             0.8,
             "#7fbc41"
            ],
            [
             0.9,
             "#4d9221"
            ],
            [
             1,
             "#276419"
            ]
           ],
           "sequential": [
            [
             0,
             "#0d0887"
            ],
            [
             0.1111111111111111,
             "#46039f"
            ],
            [
             0.2222222222222222,
             "#7201a8"
            ],
            [
             0.3333333333333333,
             "#9c179e"
            ],
            [
             0.4444444444444444,
             "#bd3786"
            ],
            [
             0.5555555555555556,
             "#d8576b"
            ],
            [
             0.6666666666666666,
             "#ed7953"
            ],
            [
             0.7777777777777778,
             "#fb9f3a"
            ],
            [
             0.8888888888888888,
             "#fdca26"
            ],
            [
             1,
             "#f0f921"
            ]
           ],
           "sequentialminus": [
            [
             0,
             "#0d0887"
            ],
            [
             0.1111111111111111,
             "#46039f"
            ],
            [
             0.2222222222222222,
             "#7201a8"
            ],
            [
             0.3333333333333333,
             "#9c179e"
            ],
            [
             0.4444444444444444,
             "#bd3786"
            ],
            [
             0.5555555555555556,
             "#d8576b"
            ],
            [
             0.6666666666666666,
             "#ed7953"
            ],
            [
             0.7777777777777778,
             "#fb9f3a"
            ],
            [
             0.8888888888888888,
             "#fdca26"
            ],
            [
             1,
             "#f0f921"
            ]
           ]
          },
          "colorway": [
           "#636efa",
           "#EF553B",
           "#00cc96",
           "#ab63fa",
           "#FFA15A",
           "#19d3f3",
           "#FF6692",
           "#B6E880",
           "#FF97FF",
           "#FECB52"
          ],
          "font": {
           "color": "#2a3f5f"
          },
          "geo": {
           "bgcolor": "white",
           "lakecolor": "white",
           "landcolor": "#E5ECF6",
           "showlakes": true,
           "showland": true,
           "subunitcolor": "white"
          },
          "hoverlabel": {
           "align": "left"
          },
          "hovermode": "closest",
          "mapbox": {
           "style": "light"
          },
          "paper_bgcolor": "white",
          "plot_bgcolor": "#E5ECF6",
          "polar": {
           "angularaxis": {
            "gridcolor": "white",
            "linecolor": "white",
            "ticks": ""
           },
           "bgcolor": "#E5ECF6",
           "radialaxis": {
            "gridcolor": "white",
            "linecolor": "white",
            "ticks": ""
           }
          },
          "scene": {
           "xaxis": {
            "backgroundcolor": "#E5ECF6",
            "gridcolor": "white",
            "gridwidth": 2,
            "linecolor": "white",
            "showbackground": true,
            "ticks": "",
            "zerolinecolor": "white"
           },
           "yaxis": {
            "backgroundcolor": "#E5ECF6",
            "gridcolor": "white",
            "gridwidth": 2,
            "linecolor": "white",
            "showbackground": true,
            "ticks": "",
            "zerolinecolor": "white"
           },
           "zaxis": {
            "backgroundcolor": "#E5ECF6",
            "gridcolor": "white",
            "gridwidth": 2,
            "linecolor": "white",
            "showbackground": true,
            "ticks": "",
            "zerolinecolor": "white"
           }
          },
          "shapedefaults": {
           "line": {
            "color": "#2a3f5f"
           }
          },
          "ternary": {
           "aaxis": {
            "gridcolor": "white",
            "linecolor": "white",
            "ticks": ""
           },
           "baxis": {
            "gridcolor": "white",
            "linecolor": "white",
            "ticks": ""
           },
           "bgcolor": "#E5ECF6",
           "caxis": {
            "gridcolor": "white",
            "linecolor": "white",
            "ticks": ""
           }
          },
          "title": {
           "x": 0.05
          },
          "xaxis": {
           "automargin": true,
           "gridcolor": "white",
           "linecolor": "white",
           "ticks": "",
           "title": {
            "standoff": 15
           },
           "zerolinecolor": "white",
           "zerolinewidth": 2
          },
          "yaxis": {
           "automargin": true,
           "gridcolor": "white",
           "linecolor": "white",
           "ticks": "",
           "title": {
            "standoff": 15
           },
           "zerolinecolor": "white",
           "zerolinewidth": 2
          }
         }
        },
        "xaxis": {
         "autorange": true,
         "domain": [
          0,
          1
         ],
         "range": [
          -559539304046.0968,
          561684135545.4448
         ],
         "type": "linear"
        },
        "yaxis": {
         "autorange": true,
         "domain": [
          0,
          1
         ],
         "range": [
          -161242402810.4727,
          165856817815.90903
         ],
         "scaleanchor": "x",
         "scaleratio": 1,
         "type": "linear"
        }
       }
      },
      "image/png": "[encoded data removed]",
      "text/html": [
       "<div>                            <div id=\"ce4f3e29-616f-4b0f-abed-5e2e0d4bc4fa\" class=\"plotly-graph-div\" style=\"height:525px; width:100%;\"></div>            <script type=\"text/javascript\">                require([\"plotly\"], function(Plotly) {                    window.PLOTLYENV=window.PLOTLYENV || {};                                    if (document.getElementById(\"ce4f3e29-616f-4b0f-abed-5e2e0d4bc4fa\")) {                    Plotly.newPlot(                        \"ce4f3e29-616f-4b0f-abed-5e2e0d4bc4fa\",                        [{\"x\":[149597870700.0,149297001942.85995,148395487000.21805,146895837942.3846,144804637433.4658,142131030485.646,138886177826.81955,135083255900.59064,130737456866.2735,125865988598.89224,120488074689.18094,114624954443.58362,108299882884.25424,101537146401.88277,94362164650.94218,86806155763.06544,78901367615.54094,70680751819.45291,62177963719.6815,53427362394.902855,44464010657.58895,35323675054.00775,26042825864.223038,16658637102.094604,7208986515.278107,-2267544414.774887,-11731670472.81688,-21144873026.928745,-30473861833.116898,-39680000808.78011,-48724778695.96266,-57570723416.38068,-66181402071.42233,-74521420942.14755,-82556425489.28818,-90253100353.24805,-97579169354.10272,-104503395491.59987,-110995580945.15881,-117026567073.871,-122568234416.4997,-127594880695.35312,-132092175138.91882,-136042475029.52834,-139428624330.09445,-142235701125.19324,-144451017621.0641,-146064120145.60965,-147066789148.39584,-147453039200.65195,-147219118995.27045,-146363511346.8071,-144886933191.48105,-142792335587.17462,-140084903713.4335,-136774218843.6761,-132876979837.17305,-128410642712.01395,-123394516760.10745,-117849810589.69687,-111799632125.35963,-105268988608.0079,-98284786594.88803,-90875831959.58078,-83072829892.00157,-74908384898.40002,-66417000801.36012,-57635080739.80061,-48600706522.21213,-39349542337.49208,-29922840468.334778,-20364244617.09386,-10717302079.92199,-1025463746.7701035,8667915898.612267,18319578778.676666,27886363222.0764,37325203963.66608,46593132144.50148,55647275311.84015,64444857419.14087,72943198826.06364,81099716298.47015,88874163105.88474,96245629445.43576,103183847426.89345,109656736221.59288,115634438170.41072,121089318783.76495,125995966741.61467,130331193893.46051,134074035258.34444,137205749024.84958,139709816551.1006,141571942364.76337,142780054163.0451,143324302812.69437,143202192658.10544,142424246557.41925,140993623363.5508],\"y\":[0.0,9488090380.527939,18938119167.82382,28312849178.3918,37573766012.12119,46682908570.92485,55603384300.197,64299369188.813126,72736107769.13014,80879913116.98627,88698166851.701,96159319136.0753,103232888676.3914,109889798625.19995,116103648703.76465,121849566925.32481,127104598346.29048,131847766704.62468,136060074419.84335,139724502593.01532,142826011006.76236,145351538125.25912,147290001094.23328,148632295740.96533,149371296574.28876,149501856784.58994,149020808243.8081,147928299224.51422,146233787501.39355,143946241144.28436,141075837495.62057,137634612563.16327,133636461020.00066,129097136204.54816,124034250120.54836,118467273437.07089,112417535488.51266,105908224274.59766,98964386460.37717,91612927376.2294,83882611017.8599,75803886691.0802,67409040419.785095,58734299736.85798,49816783155.30318,40694070839.45952,31404204605.0001,21985687918.93258,12477485899.59909,2919025316.6760254,-6649805408.825623,-16188656204.560486,-25656715346.84874,-35012709460.67619,-44214903519.69412,-53225052076.744026,-62008790326.32799,-70526924702.4104,-78741675174.06992,-86616794997.30159,-94117570715.01746,-101210822157.0458,-107864902440.13187,-114049697967.93742,-119736628431.04074,-124898646806.93689,-129510239360.03757,-133547425641.67096,-136988057271.5029,-139820081222.4556,-142034068790.84457,-143620761922.39355,-144573344387.0837,-144887441779.1536,-144561121517.09933,-143594892843.67444,-141991706825.88995,-139756956355.01422,-136898476146.57329,-133426542740.35046,-129353874500.38658,-124695631614.98001,-119469416096.6865,-113695993651.09525,-107406112293.57256,-100631476517.60362,-93404096244.32477,-85757309827.2752,-77725784052.39735,-69345514138.03705,-60653823734.94303,-51689364926.26715,-42492118227.564835,-33103392586.79431,-23565825384.31697,-13923382432.897705,-4221357977.704239,5495745740.855901,15187439607.277712,24809520689.766766],\"type\":\"scatter\"}],                        {\"template\":{\"data\":{\"histogram2dcontour\":[{\"type\":\"histogram2dcontour\",\"colorbar\":{\"outlinewidth\":0,\"ticks\":\"\"},\"colorscale\":[[0.0,\"#0d0887\"],[0.1111111111111111,\"#46039f\"],[0.2222222222222222,\"#7201a8\"],[0.3333333333333333,\"#9c179e\"],[0.4444444444444444,\"#bd3786\"],[0.5555555555555556,\"#d8576b\"],[0.6666666666666666,\"#ed7953\"],[0.7777777777777778,\"#fb9f3a\"],[0.8888888888888888,\"#fdca26\"],[1.0,\"#f0f921\"]]}],\"choropleth\":[{\"type\":\"choropleth\",\"colorbar\":{\"outlinewidth\":0,\"ticks\":\"\"}}],\"histogram2d\":[{\"type\":\"histogram2d\",\"colorbar\":{\"outlinewidth\":0,\"ticks\":\"\"},\"colorscale\":[[0.0,\"#0d0887\"],[0.1111111111111111,\"#46039f\"],[0.2222222222222222,\"#7201a8\"],[0.3333333333333333,\"#9c179e\"],[0.4444444444444444,\"#bd3786\"],[0.5555555555555556,\"#d8576b\"],[0.6666666666666666,\"#ed7953\"],[0.7777777777777778,\"#fb9f3a\"],[0.8888888888888888,\"#fdca26\"],[1.0,\"#f0f921\"]]}],\"heatmap\":[{\"type\":\"heatmap\",\"colorbar\":{\"outlinewidth\":0,\"ticks\":\"\"},\"colorscale\":[[0.0,\"#0d0887\"],[0.1111111111111111,\"#46039f\"],[0.2222222222222222,\"#7201a8\"],[0.3333333333333333,\"#9c179e\"],[0.4444444444444444,\"#bd3786\"],[0.5555555555555556,\"#d8576b\"],[0.6666666666666666,\"#ed7953\"],[0.7777777777777778,\"#fb9f3a\"],[0.8888888888888888,\"#fdca26\"],[1.0,\"#f0f921\"]]}],\"heatmapgl\":[{\"type\":\"heatmapgl\",\"colorbar\":{\"outlinewidth\":0,\"ticks\":\"\"},\"colorscale\":[[0.0,\"#0d0887\"],[0.1111111111111111,\"#46039f\"],[0.2222222222222222,\"#7201a8\"],[0.3333333333333333,\"#9c179e\"],[0.4444444444444444,\"#bd3786\"],[0.5555555555555556,\"#d8576b\"],[0.6666666666666666,\"#ed7953\"],[0.7777777777777778,\"#fb9f3a\"],[0.8888888888888888,\"#fdca26\"],[1.0,\"#f0f921\"]]}],\"contourcarpet\":[{\"type\":\"contourcarpet\",\"colorbar\":{\"outlinewidth\":0,\"ticks\":\"\"}}],\"contour\":[{\"type\":\"contour\",\"colorbar\":{\"outlinewidth\":0,\"ticks\":\"\"},\"colorscale\":[[0.0,\"#0d0887\"],[0.1111111111111111,\"#46039f\"],[0.2222222222222222,\"#7201a8\"],[0.3333333333333333,\"#9c179e\"],[0.4444444444444444,\"#bd3786\"],[0.5555555555555556,\"#d8576b\"],[0.6666666666666666,\"#ed7953\"],[0.7777777777777778,\"#fb9f3a\"],[0.8888888888888888,\"#fdca26\"],[1.0,\"#f0f921\"]]}],\"surface\":[{\"type\":\"surface\",\"colorbar\":{\"outlinewidth\":0,\"ticks\":\"\"},\"colorscale\":[[0.0,\"#0d0887\"],[0.1111111111111111,\"#46039f\"],[0.2222222222222222,\"#7201a8\"],[0.3333333333333333,\"#9c179e\"],[0.4444444444444444,\"#bd3786\"],[0.5555555555555556,\"#d8576b\"],[0.6666666666666666,\"#ed7953\"],[0.7777777777777778,\"#fb9f3a\"],[0.8888888888888888,\"#fdca26\"],[1.0,\"#f0f921\"]]}],\"mesh3d\":[{\"type\":\"mesh3d\",\"colorbar\":{\"outlinewidth\":0,\"ticks\":\"\"}}],\"scatter\":[{\"fillpattern\":{\"fillmode\":\"overlay\",\"size\":10,\"solidity\":0.2},\"type\":\"scatter\"}],\"parcoords\":[{\"type\":\"parcoords\",\"line\":{\"colorbar\":{\"outlinewidth\":0,\"ticks\":\"\"}}}],\"scatterpolargl\":[{\"type\":\"scatterpolargl\",\"marker\":{\"colorbar\":{\"outlinewidth\":0,\"ticks\":\"\"}}}],\"bar\":[{\"error_x\":{\"color\":\"#2a3f5f\"},\"error_y\":{\"color\":\"#2a3f5f\"},\"marker\":{\"line\":{\"color\":\"#E5ECF6\",\"width\":0.5},\"pattern\":{\"fillmode\":\"overlay\",\"size\":10,\"solidity\":0.2}},\"type\":\"bar\"}],\"scattergeo\":[{\"type\":\"scattergeo\",\"marker\":{\"colorbar\":{\"outlinewidth\":0,\"ticks\":\"\"}}}],\"scatterpolar\":[{\"type\":\"scatterpolar\",\"marker\":{\"colorbar\":{\"outlinewidth\":0,\"ticks\":\"\"}}}],\"histogram\":[{\"marker\":{\"pattern\":{\"fillmode\":\"overlay\",\"size\":10,\"solidity\":0.2}},\"type\":\"histogram\"}],\"scattergl\":[{\"type\":\"scattergl\",\"marker\":{\"colorbar\":{\"outlinewidth\":0,\"ticks\":\"\"}}}],\"scatter3d\":[{\"type\":\"scatter3d\",\"line\":{\"colorbar\":{\"outlinewidth\":0,\"ticks\":\"\"}},\"marker\":{\"colorbar\":{\"outlinewidth\":0,\"ticks\":\"\"}}}],\"scattermapbox\":[{\"type\":\"scattermapbox\",\"marker\":{\"colorbar\":{\"outlinewidth\":0,\"ticks\":\"\"}}}],\"scatterternary\":[{\"type\":\"scatterternary\",\"marker\":{\"colorbar\":{\"outlinewidth\":0,\"ticks\":\"\"}}}],\"scattercarpet\":[{\"type\":\"scattercarpet\",\"marker\":{\"colorbar\":{\"outlinewidth\":0,\"ticks\":\"\"}}}],\"carpet\":[{\"aaxis\":{\"endlinecolor\":\"#2a3f5f\",\"gridcolor\":\"white\",\"linecolor\":\"white\",\"minorgridcolor\":\"white\",\"startlinecolor\":\"#2a3f5f\"},\"baxis\":{\"endlinecolor\":\"#2a3f5f\",\"gridcolor\":\"white\",\"linecolor\":\"white\",\"minorgridcolor\":\"white\",\"startlinecolor\":\"#2a3f5f\"},\"type\":\"carpet\"}],\"table\":[{\"cells\":{\"fill\":{\"color\":\"#EBF0F8\"},\"line\":{\"color\":\"white\"}},\"header\":{\"fill\":{\"color\":\"#C8D4E3\"},\"line\":{\"color\":\"white\"}},\"type\":\"table\"}],\"barpolar\":[{\"marker\":{\"line\":{\"color\":\"#E5ECF6\",\"width\":0.5},\"pattern\":{\"fillmode\":\"overlay\",\"size\":10,\"solidity\":0.2}},\"type\":\"barpolar\"}],\"pie\":[{\"automargin\":true,\"type\":\"pie\"}]},\"layout\":{\"autotypenumbers\":\"strict\",\"colorway\":[\"#636efa\",\"#EF553B\",\"#00cc96\",\"#ab63fa\",\"#FFA15A\",\"#19d3f3\",\"#FF6692\",\"#B6E880\",\"#FF97FF\",\"#FECB52\"],\"font\":{\"color\":\"#2a3f5f\"},\"hovermode\":\"closest\",\"hoverlabel\":{\"align\":\"left\"},\"paper_bgcolor\":\"white\",\"plot_bgcolor\":\"#E5ECF6\",\"polar\":{\"bgcolor\":\"#E5ECF6\",\"angularaxis\":{\"gridcolor\":\"white\",\"linecolor\":\"white\",\"ticks\":\"\"},\"radialaxis\":{\"gridcolor\":\"white\",\"linecolor\":\"white\",\"ticks\":\"\"}},\"ternary\":{\"bgcolor\":\"#E5ECF6\",\"aaxis\":{\"gridcolor\":\"white\",\"linecolor\":\"white\",\"ticks\":\"\"},\"baxis\":{\"gridcolor\":\"white\",\"linecolor\":\"white\",\"ticks\":\"\"},\"caxis\":{\"gridcolor\":\"white\",\"linecolor\":\"white\",\"ticks\":\"\"}},\"coloraxis\":{\"colorbar\":{\"outlinewidth\":0,\"ticks\":\"\"}},\"colorscale\":{\"sequential\":[[0.0,\"#0d0887\"],[0.1111111111111111,\"#46039f\"],[0.2222222222222222,\"#7201a8\"],[0.3333333333333333,\"#9c179e\"],[0.4444444444444444,\"#bd3786\"],[0.5555555555555556,\"#d8576b\"],[0.6666666666666666,\"#ed7953\"],[0.7777777777777778,\"#fb9f3a\"],[0.8888888888888888,\"#fdca26\"],[1.0,\"#f0f921\"]],\"sequentialminus\":[[0.0,\"#0d0887\"],[0.1111111111111111,\"#46039f\"],[0.2222222222222222,\"#7201a8\"],[0.3333333333333333,\"#9c179e\"],[0.4444444444444444,\"#bd3786\"],[0.5555555555555556,\"#d8576b\"],[0.6666666666666666,\"#ed7953\"],[0.7777777777777778,\"#fb9f3a\"],[0.8888888888888888,\"#fdca26\"],[1.0,\"#f0f921\"]],\"diverging\":[[0,\"#8e0152\"],[0.1,\"#c51b7d\"],[0.2,\"#de77ae\"],[0.3,\"#f1b6da\"],[0.4,\"#fde0ef\"],[0.5,\"#f7f7f7\"],[0.6,\"#e6f5d0\"],[0.7,\"#b8e186\"],[0.8,\"#7fbc41\"],[0.9,\"#4d9221\"],[1,\"#276419\"]]},\"xaxis\":{\"gridcolor\":\"white\",\"linecolor\":\"white\",\"ticks\":\"\",\"title\":{\"standoff\":15},\"zerolinecolor\":\"white\",\"automargin\":true,\"zerolinewidth\":2},\"yaxis\":{\"gridcolor\":\"white\",\"linecolor\":\"white\",\"ticks\":\"\",\"title\":{\"standoff\":15},\"zerolinecolor\":\"white\",\"automargin\":true,\"zerolinewidth\":2},\"scene\":{\"xaxis\":{\"backgroundcolor\":\"#E5ECF6\",\"gridcolor\":\"white\",\"linecolor\":\"white\",\"showbackground\":true,\"ticks\":\"\",\"zerolinecolor\":\"white\",\"gridwidth\":2},\"yaxis\":{\"backgroundcolor\":\"#E5ECF6\",\"gridcolor\":\"white\",\"linecolor\":\"white\",\"showbackground\":true,\"ticks\":\"\",\"zerolinecolor\":\"white\",\"gridwidth\":2},\"zaxis\":{\"backgroundcolor\":\"#E5ECF6\",\"gridcolor\":\"white\",\"linecolor\":\"white\",\"showbackground\":true,\"ticks\":\"\",\"zerolinecolor\":\"white\",\"gridwidth\":2}},\"shapedefaults\":{\"line\":{\"color\":\"#2a3f5f\"}},\"annotationdefaults\":{\"arrowcolor\":\"#2a3f5f\",\"arrowhead\":0,\"arrowwidth\":1},\"geo\":{\"bgcolor\":\"white\",\"landcolor\":\"#E5ECF6\",\"subunitcolor\":\"white\",\"showland\":true,\"showlakes\":true,\"lakecolor\":\"white\"},\"title\":{\"x\":0.05},\"mapbox\":{\"style\":\"light\"}}},\"yaxis\":{\"scaleanchor\":\"x\",\"scaleratio\":1}},                        {\"responsive\": true}                    ).then(function(){\n",
       "                            \n",
       "var gd = document.getElementById('ce4f3e29-616f-4b0f-abed-5e2e0d4bc4fa');\n",
       "var x = new MutationObserver(function (mutations, observer) {{\n",
       "        var display = window.getComputedStyle(gd).display;\n",
       "        if (!display || display === 'none') {{\n",
       "            console.log([gd, 'removed!']);\n",
       "            Plotly.purge(gd);\n",
       "            observer.disconnect();\n",
       "        }}\n",
       "}});\n",
       "\n",
       "// Listen for the removal of the full notebook cells\n",
       "var notebookContainer = gd.closest('#notebook-container');\n",
       "if (notebookContainer) {{\n",
       "    x.observe(notebookContainer, {childList: true});\n",
       "}}\n",
       "\n",
       "// Listen for the clearing of the current output cell\n",
       "var outputEl = gd.closest('.output');\n",
       "if (outputEl) {{\n",
       "    x.observe(outputEl, {childList: true});\n",
       "}}\n",
       "\n",
       "                        })                };                });            </script>        </div>"
      ]
     },
     "metadata": {},
     "output_type": "display_data"
    }
   ],
   "source": [
    "fig = go.Figure()\n",
    "\n",
    "fig.add_trace(go.Scatter(\n",
    "    x=soln_earth_sun.y[0, :],\n",
    "    y=soln_earth_sun.y[1, :],\n",
    "))\n",
    "\n",
    "fig.update_layout(yaxis=dict(scaleanchor=\"x\", scaleratio=1))\n",
    "fig.show()"
   ]
  },
  {
   "cell_type": "code",
   "execution_count": null,
   "id": "7b7b610d-75cf-4613-b1e0-23294aaca170",
   "metadata": {},
   "outputs": [],
   "source": []
  }
 ],
 "metadata": {
  "kernelspec": {
   "display_name": "Python 3 (ipykernel)",
   "language": "python",
   "name": "python3"
  },
  "language_info": {
   "codemirror_mode": {
    "name": "ipython",
    "version": 3
   },
   "file_extension": ".py",
   "mimetype": "text/x-python",
   "name": "python",
   "nbconvert_exporter": "python",
   "pygments_lexer": "ipython3",
   "version": "3.8.10"
  }
 },
 "nbformat": 4,
 "nbformat_minor": 5
}
