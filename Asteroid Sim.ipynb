{
 "cells": [
  {
   "cell_type": "code",
   "execution_count": 4,
   "id": "d465af7a-df57-46b3-b922-6ce91d8136ca",
   "metadata": {},
   "outputs": [],
   "source": [
    "import numpy as np\n",
    "import scipy.integrate as integrate\n",
    "\n",
    "import plotly.graph_objects as go"
   ]
  },
  {
   "cell_type": "code",
   "execution_count": 5,
   "id": "2f1bb5a7-107c-49c4-9526-66bd33f48ddb",
   "metadata": {},
   "outputs": [],
   "source": [
    "## Useful constants\n",
    "G = 6.6743e-11\n",
    "m_earth = 5.97219e24\n",
    "m_sun = 1.9891e30\n",
    "au = 149597870700 # 1 Astronomical unit in meters\n",
    "earth_linear_vel = 107550 # Taken from https://math.stackexchange.com/questions/2659117/what-is-the-linear-velocity-of-the-earth-in-kilometres-per-hour-please-help"
   ]
  },
  {
   "cell_type": "code",
   "execution_count": 6,
   "id": "f4f72912-c967-4563-b4c8-8c7c28ca3ee2",
   "metadata": {},
   "outputs": [],
   "source": [
    "## Two-body problem\n",
    "\n",
    "earth_pos_0 = np.array([au, 0])\n",
    "earth_vel_0 = np.array([earth_linear_vel, 0])\n",
    "\n",
    "y_0 = np.concatenate([earth_pos_0, earth_vel_0])\n",
    "\n",
    "def sun_earth_diffeq(t, y):\n",
    "    dy = np.zeros(y.shape)\n",
    "    \n",
    "    earth_to_sun = -y[0:1]\n",
    "    earth_to_sun = earth_to_sun / np.linalg.norm(earth_to_sun)\n",
    "    \n",
    "    force_sun_to_earth = G * m_sun * m_earth / au**2\n",
    "    \n",
    "    dy = earth_to_sun * force_sun_to_earth\n",
    "    \n",
    "    return dy"
   ]
  },
  {
   "cell_type": "code",
   "execution_count": null,
   "id": "a503726c-4281-49e6-bb30-162b421a5bf6",
   "metadata": {},
   "outputs": [],
   "source": []
  }
 ],
 "metadata": {
  "kernelspec": {
   "display_name": "Python 3 (ipykernel)",
   "language": "python",
   "name": "python3"
  },
  "language_info": {
   "codemirror_mode": {
    "name": "ipython",
    "version": 3
   },
   "file_extension": ".py",
   "mimetype": "text/x-python",
   "name": "python",
   "nbconvert_exporter": "python",
   "pygments_lexer": "ipython3",
   "version": "3.8.10"
  }
 },
 "nbformat": 4,
 "nbformat_minor": 5
}
